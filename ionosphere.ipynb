{
 "cells": [
  {
   "cell_type": "markdown",
   "metadata": {},
   "source": [
    "# The Ionosphere Dataset\n",
    "\n",
    "The Ionosphere dataset was published back in 1989 by Sigillito et al. [here](https://www.semanticscholar.org/paper/Classification-of-radar-returns-from-the-ionosphere-Sigillito-Wing/e0d2de05caacdfa8073b2b4f77c5e72cb2449b81). The paper describes how radar signals backscattered by ionospheric density irregularities or clutter can provide meaningful information for \"classification of ionospheric/magnetospheric regions or boundaries\" amongst other applications. However, discriminating between backscattered signals that are \"usable\" or \"not usable\" is an extremely time-consuming task when undertaken manually.\n",
    "\n",
    "The paper proposes training feedforward neural networks to perform this discrimination automatically, and is able to do so at a *92%* test accuracy with a single layer network, and *98.0%* test accuracy with a multilayer network.\n",
    "\n",
    "This notebook aims to use **feature engineering** to reach comparable performance via a simple **logistic regression** model."
   ]
  },
  {
   "cell_type": "markdown",
   "metadata": {
    "colab_type": "text",
    "id": "IQLZg4TDF0YW"
   },
   "source": [
    "# Package Imports"
   ]
  },
  {
   "cell_type": "code",
   "execution_count": 525,
   "metadata": {
    "colab": {},
    "colab_type": "code",
    "id": "NS8vSnoF0DLF"
   },
   "outputs": [],
   "source": [
    "#Import all necessary libraries\n",
    "import numpy as np\n",
    "import pandas as pd\n",
    "import matplotlib.pyplot as plt\n",
    "import seaborn as sns\n",
    "\n",
    "from sklearn.model_selection import train_test_split"
   ]
  },
  {
   "cell_type": "markdown",
   "metadata": {
    "colab_type": "text",
    "id": "TQ0dCRBEz5E4"
   },
   "source": [
    "# Exploratory Data Analysis"
   ]
  },
  {
   "cell_type": "markdown",
   "metadata": {},
   "source": [
    "The signal is given in the form of 17, time-lagged radar readings with both a real and imaginary component. The \"even\" features (0, 2, 4, ..., 32) are the real components, while the \"odd\" features are the imaginary components (1, 3, ..., 33). The 34th column provides the data label as either \"g\" (good) or \"b\" (bad)."
   ]
  },
  {
   "cell_type": "code",
   "execution_count": 590,
   "metadata": {
    "colab": {
     "base_uri": "https://localhost:8080/",
     "height": 490,
     "resources": {
      "http://localhost:8080/nbextensions/google.colab/files.js": {
       "data": "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",
       "headers": [
        [
         "content-type",
         "application/javascript"
        ]
       ],
       "ok": true,
       "status": 200,
       "status_text": ""
      }
     }
    },
    "colab_type": "code",
    "id": "5mRhgnC_3bHM",
    "outputId": "dda05557-2942-4d4b-c73d-517f78d9bc2a"
   },
   "outputs": [
    {
     "data": {
      "text/html": [
       "<div>\n",
       "<style scoped>\n",
       "    .dataframe tbody tr th:only-of-type {\n",
       "        vertical-align: middle;\n",
       "    }\n",
       "\n",
       "    .dataframe tbody tr th {\n",
       "        vertical-align: top;\n",
       "    }\n",
       "\n",
       "    .dataframe thead th {\n",
       "        text-align: right;\n",
       "    }\n",
       "</style>\n",
       "<table border=\"1\" class=\"dataframe\">\n",
       "  <thead>\n",
       "    <tr style=\"text-align: right;\">\n",
       "      <th></th>\n",
       "      <th>0</th>\n",
       "      <th>1</th>\n",
       "      <th>2</th>\n",
       "      <th>3</th>\n",
       "      <th>4</th>\n",
       "      <th>5</th>\n",
       "      <th>6</th>\n",
       "      <th>7</th>\n",
       "      <th>8</th>\n",
       "      <th>9</th>\n",
       "      <th>...</th>\n",
       "      <th>25</th>\n",
       "      <th>26</th>\n",
       "      <th>27</th>\n",
       "      <th>28</th>\n",
       "      <th>29</th>\n",
       "      <th>30</th>\n",
       "      <th>31</th>\n",
       "      <th>32</th>\n",
       "      <th>33</th>\n",
       "      <th>34</th>\n",
       "    </tr>\n",
       "  </thead>\n",
       "  <tbody>\n",
       "    <tr>\n",
       "      <th>0</th>\n",
       "      <td>1</td>\n",
       "      <td>0</td>\n",
       "      <td>0.99539</td>\n",
       "      <td>-0.05889</td>\n",
       "      <td>0.85243</td>\n",
       "      <td>0.02306</td>\n",
       "      <td>0.83398</td>\n",
       "      <td>-0.37708</td>\n",
       "      <td>1.00000</td>\n",
       "      <td>0.03760</td>\n",
       "      <td>...</td>\n",
       "      <td>-0.51171</td>\n",
       "      <td>0.41078</td>\n",
       "      <td>-0.46168</td>\n",
       "      <td>0.21266</td>\n",
       "      <td>-0.34090</td>\n",
       "      <td>0.42267</td>\n",
       "      <td>-0.54487</td>\n",
       "      <td>0.18641</td>\n",
       "      <td>-0.45300</td>\n",
       "      <td>g</td>\n",
       "    </tr>\n",
       "    <tr>\n",
       "      <th>1</th>\n",
       "      <td>1</td>\n",
       "      <td>0</td>\n",
       "      <td>1.00000</td>\n",
       "      <td>-0.18829</td>\n",
       "      <td>0.93035</td>\n",
       "      <td>-0.36156</td>\n",
       "      <td>-0.10868</td>\n",
       "      <td>-0.93597</td>\n",
       "      <td>1.00000</td>\n",
       "      <td>-0.04549</td>\n",
       "      <td>...</td>\n",
       "      <td>-0.26569</td>\n",
       "      <td>-0.20468</td>\n",
       "      <td>-0.18401</td>\n",
       "      <td>-0.19040</td>\n",
       "      <td>-0.11593</td>\n",
       "      <td>-0.16626</td>\n",
       "      <td>-0.06288</td>\n",
       "      <td>-0.13738</td>\n",
       "      <td>-0.02447</td>\n",
       "      <td>b</td>\n",
       "    </tr>\n",
       "    <tr>\n",
       "      <th>2</th>\n",
       "      <td>1</td>\n",
       "      <td>0</td>\n",
       "      <td>1.00000</td>\n",
       "      <td>-0.03365</td>\n",
       "      <td>1.00000</td>\n",
       "      <td>0.00485</td>\n",
       "      <td>1.00000</td>\n",
       "      <td>-0.12062</td>\n",
       "      <td>0.88965</td>\n",
       "      <td>0.01198</td>\n",
       "      <td>...</td>\n",
       "      <td>-0.40220</td>\n",
       "      <td>0.58984</td>\n",
       "      <td>-0.22145</td>\n",
       "      <td>0.43100</td>\n",
       "      <td>-0.17365</td>\n",
       "      <td>0.60436</td>\n",
       "      <td>-0.24180</td>\n",
       "      <td>0.56045</td>\n",
       "      <td>-0.38238</td>\n",
       "      <td>g</td>\n",
       "    </tr>\n",
       "    <tr>\n",
       "      <th>3</th>\n",
       "      <td>1</td>\n",
       "      <td>0</td>\n",
       "      <td>1.00000</td>\n",
       "      <td>-0.45161</td>\n",
       "      <td>1.00000</td>\n",
       "      <td>1.00000</td>\n",
       "      <td>0.71216</td>\n",
       "      <td>-1.00000</td>\n",
       "      <td>0.00000</td>\n",
       "      <td>0.00000</td>\n",
       "      <td>...</td>\n",
       "      <td>0.90695</td>\n",
       "      <td>0.51613</td>\n",
       "      <td>1.00000</td>\n",
       "      <td>1.00000</td>\n",
       "      <td>-0.20099</td>\n",
       "      <td>0.25682</td>\n",
       "      <td>1.00000</td>\n",
       "      <td>-0.32382</td>\n",
       "      <td>1.00000</td>\n",
       "      <td>b</td>\n",
       "    </tr>\n",
       "    <tr>\n",
       "      <th>4</th>\n",
       "      <td>1</td>\n",
       "      <td>0</td>\n",
       "      <td>1.00000</td>\n",
       "      <td>-0.02401</td>\n",
       "      <td>0.94140</td>\n",
       "      <td>0.06531</td>\n",
       "      <td>0.92106</td>\n",
       "      <td>-0.23255</td>\n",
       "      <td>0.77152</td>\n",
       "      <td>-0.16399</td>\n",
       "      <td>...</td>\n",
       "      <td>-0.65158</td>\n",
       "      <td>0.13290</td>\n",
       "      <td>-0.53206</td>\n",
       "      <td>0.02431</td>\n",
       "      <td>-0.62197</td>\n",
       "      <td>-0.05707</td>\n",
       "      <td>-0.59573</td>\n",
       "      <td>-0.04608</td>\n",
       "      <td>-0.65697</td>\n",
       "      <td>g</td>\n",
       "    </tr>\n",
       "    <tr>\n",
       "      <th>...</th>\n",
       "      <td>...</td>\n",
       "      <td>...</td>\n",
       "      <td>...</td>\n",
       "      <td>...</td>\n",
       "      <td>...</td>\n",
       "      <td>...</td>\n",
       "      <td>...</td>\n",
       "      <td>...</td>\n",
       "      <td>...</td>\n",
       "      <td>...</td>\n",
       "      <td>...</td>\n",
       "      <td>...</td>\n",
       "      <td>...</td>\n",
       "      <td>...</td>\n",
       "      <td>...</td>\n",
       "      <td>...</td>\n",
       "      <td>...</td>\n",
       "      <td>...</td>\n",
       "      <td>...</td>\n",
       "      <td>...</td>\n",
       "      <td>...</td>\n",
       "    </tr>\n",
       "    <tr>\n",
       "      <th>346</th>\n",
       "      <td>1</td>\n",
       "      <td>0</td>\n",
       "      <td>0.83508</td>\n",
       "      <td>0.08298</td>\n",
       "      <td>0.73739</td>\n",
       "      <td>-0.14706</td>\n",
       "      <td>0.84349</td>\n",
       "      <td>-0.05567</td>\n",
       "      <td>0.90441</td>\n",
       "      <td>-0.04622</td>\n",
       "      <td>...</td>\n",
       "      <td>-0.04202</td>\n",
       "      <td>0.83479</td>\n",
       "      <td>0.00123</td>\n",
       "      <td>1.00000</td>\n",
       "      <td>0.12815</td>\n",
       "      <td>0.86660</td>\n",
       "      <td>-0.10714</td>\n",
       "      <td>0.90546</td>\n",
       "      <td>-0.04307</td>\n",
       "      <td>g</td>\n",
       "    </tr>\n",
       "    <tr>\n",
       "      <th>347</th>\n",
       "      <td>1</td>\n",
       "      <td>0</td>\n",
       "      <td>0.95113</td>\n",
       "      <td>0.00419</td>\n",
       "      <td>0.95183</td>\n",
       "      <td>-0.02723</td>\n",
       "      <td>0.93438</td>\n",
       "      <td>-0.01920</td>\n",
       "      <td>0.94590</td>\n",
       "      <td>0.01606</td>\n",
       "      <td>...</td>\n",
       "      <td>0.01361</td>\n",
       "      <td>0.93522</td>\n",
       "      <td>0.04925</td>\n",
       "      <td>0.93159</td>\n",
       "      <td>0.08168</td>\n",
       "      <td>0.94066</td>\n",
       "      <td>-0.00035</td>\n",
       "      <td>0.91483</td>\n",
       "      <td>0.04712</td>\n",
       "      <td>g</td>\n",
       "    </tr>\n",
       "    <tr>\n",
       "      <th>348</th>\n",
       "      <td>1</td>\n",
       "      <td>0</td>\n",
       "      <td>0.94701</td>\n",
       "      <td>-0.00034</td>\n",
       "      <td>0.93207</td>\n",
       "      <td>-0.03227</td>\n",
       "      <td>0.95177</td>\n",
       "      <td>-0.03431</td>\n",
       "      <td>0.95584</td>\n",
       "      <td>0.02446</td>\n",
       "      <td>...</td>\n",
       "      <td>0.03193</td>\n",
       "      <td>0.92489</td>\n",
       "      <td>0.02542</td>\n",
       "      <td>0.92120</td>\n",
       "      <td>0.02242</td>\n",
       "      <td>0.92459</td>\n",
       "      <td>0.00442</td>\n",
       "      <td>0.92697</td>\n",
       "      <td>-0.00577</td>\n",
       "      <td>g</td>\n",
       "    </tr>\n",
       "    <tr>\n",
       "      <th>349</th>\n",
       "      <td>1</td>\n",
       "      <td>0</td>\n",
       "      <td>0.90608</td>\n",
       "      <td>-0.01657</td>\n",
       "      <td>0.98122</td>\n",
       "      <td>-0.01989</td>\n",
       "      <td>0.95691</td>\n",
       "      <td>-0.03646</td>\n",
       "      <td>0.85746</td>\n",
       "      <td>0.00110</td>\n",
       "      <td>...</td>\n",
       "      <td>-0.02099</td>\n",
       "      <td>0.89147</td>\n",
       "      <td>-0.07760</td>\n",
       "      <td>0.82983</td>\n",
       "      <td>-0.17238</td>\n",
       "      <td>0.96022</td>\n",
       "      <td>-0.03757</td>\n",
       "      <td>0.87403</td>\n",
       "      <td>-0.16243</td>\n",
       "      <td>g</td>\n",
       "    </tr>\n",
       "    <tr>\n",
       "      <th>350</th>\n",
       "      <td>1</td>\n",
       "      <td>0</td>\n",
       "      <td>0.84710</td>\n",
       "      <td>0.13533</td>\n",
       "      <td>0.73638</td>\n",
       "      <td>-0.06151</td>\n",
       "      <td>0.87873</td>\n",
       "      <td>0.08260</td>\n",
       "      <td>0.88928</td>\n",
       "      <td>-0.09139</td>\n",
       "      <td>...</td>\n",
       "      <td>-0.15114</td>\n",
       "      <td>0.81147</td>\n",
       "      <td>-0.04822</td>\n",
       "      <td>0.78207</td>\n",
       "      <td>-0.00703</td>\n",
       "      <td>0.75747</td>\n",
       "      <td>-0.06678</td>\n",
       "      <td>0.85764</td>\n",
       "      <td>-0.06151</td>\n",
       "      <td>g</td>\n",
       "    </tr>\n",
       "  </tbody>\n",
       "</table>\n",
       "<p>351 rows × 35 columns</p>\n",
       "</div>"
      ],
      "text/plain": [
       "     0   1        2        3        4        5        6        7        8   \\\n",
       "0     1   0  0.99539 -0.05889  0.85243  0.02306  0.83398 -0.37708  1.00000   \n",
       "1     1   0  1.00000 -0.18829  0.93035 -0.36156 -0.10868 -0.93597  1.00000   \n",
       "2     1   0  1.00000 -0.03365  1.00000  0.00485  1.00000 -0.12062  0.88965   \n",
       "3     1   0  1.00000 -0.45161  1.00000  1.00000  0.71216 -1.00000  0.00000   \n",
       "4     1   0  1.00000 -0.02401  0.94140  0.06531  0.92106 -0.23255  0.77152   \n",
       "..   ..  ..      ...      ...      ...      ...      ...      ...      ...   \n",
       "346   1   0  0.83508  0.08298  0.73739 -0.14706  0.84349 -0.05567  0.90441   \n",
       "347   1   0  0.95113  0.00419  0.95183 -0.02723  0.93438 -0.01920  0.94590   \n",
       "348   1   0  0.94701 -0.00034  0.93207 -0.03227  0.95177 -0.03431  0.95584   \n",
       "349   1   0  0.90608 -0.01657  0.98122 -0.01989  0.95691 -0.03646  0.85746   \n",
       "350   1   0  0.84710  0.13533  0.73638 -0.06151  0.87873  0.08260  0.88928   \n",
       "\n",
       "          9   ...       25       26       27       28       29       30  \\\n",
       "0    0.03760  ... -0.51171  0.41078 -0.46168  0.21266 -0.34090  0.42267   \n",
       "1   -0.04549  ... -0.26569 -0.20468 -0.18401 -0.19040 -0.11593 -0.16626   \n",
       "2    0.01198  ... -0.40220  0.58984 -0.22145  0.43100 -0.17365  0.60436   \n",
       "3    0.00000  ...  0.90695  0.51613  1.00000  1.00000 -0.20099  0.25682   \n",
       "4   -0.16399  ... -0.65158  0.13290 -0.53206  0.02431 -0.62197 -0.05707   \n",
       "..       ...  ...      ...      ...      ...      ...      ...      ...   \n",
       "346 -0.04622  ... -0.04202  0.83479  0.00123  1.00000  0.12815  0.86660   \n",
       "347  0.01606  ...  0.01361  0.93522  0.04925  0.93159  0.08168  0.94066   \n",
       "348  0.02446  ...  0.03193  0.92489  0.02542  0.92120  0.02242  0.92459   \n",
       "349  0.00110  ... -0.02099  0.89147 -0.07760  0.82983 -0.17238  0.96022   \n",
       "350 -0.09139  ... -0.15114  0.81147 -0.04822  0.78207 -0.00703  0.75747   \n",
       "\n",
       "          31       32       33  34  \n",
       "0   -0.54487  0.18641 -0.45300   g  \n",
       "1   -0.06288 -0.13738 -0.02447   b  \n",
       "2   -0.24180  0.56045 -0.38238   g  \n",
       "3    1.00000 -0.32382  1.00000   b  \n",
       "4   -0.59573 -0.04608 -0.65697   g  \n",
       "..       ...      ...      ...  ..  \n",
       "346 -0.10714  0.90546 -0.04307   g  \n",
       "347 -0.00035  0.91483  0.04712   g  \n",
       "348  0.00442  0.92697 -0.00577   g  \n",
       "349 -0.03757  0.87403 -0.16243   g  \n",
       "350 -0.06678  0.85764 -0.06151   g  \n",
       "\n",
       "[351 rows x 35 columns]"
      ]
     },
     "execution_count": 590,
     "metadata": {},
     "output_type": "execute_result"
    }
   ],
   "source": [
    "ionosphere_data = pd.read_csv('data/ionosphere.data', header=None)\n",
    "ionosphere_data"
   ]
  },
  {
   "cell_type": "code",
   "execution_count": 527,
   "metadata": {
    "colab": {
     "base_uri": "https://localhost:8080/",
     "height": 220
    },
    "colab_type": "code",
    "id": "SnOIy3EEB1SQ",
    "outputId": "e3812d7d-4fce-4752-87ec-701610ad1b5e"
   },
   "outputs": [
    {
     "data": {
      "text/html": [
       "<div>\n",
       "<style scoped>\n",
       "    .dataframe tbody tr th:only-of-type {\n",
       "        vertical-align: middle;\n",
       "    }\n",
       "\n",
       "    .dataframe tbody tr th {\n",
       "        vertical-align: top;\n",
       "    }\n",
       "\n",
       "    .dataframe thead th {\n",
       "        text-align: right;\n",
       "    }\n",
       "</style>\n",
       "<table border=\"1\" class=\"dataframe\">\n",
       "  <thead>\n",
       "    <tr style=\"text-align: right;\">\n",
       "      <th></th>\n",
       "      <th>0</th>\n",
       "      <th>1</th>\n",
       "      <th>2</th>\n",
       "      <th>3</th>\n",
       "      <th>4</th>\n",
       "      <th>5</th>\n",
       "      <th>6</th>\n",
       "      <th>7</th>\n",
       "      <th>8</th>\n",
       "      <th>9</th>\n",
       "      <th>...</th>\n",
       "      <th>25</th>\n",
       "      <th>26</th>\n",
       "      <th>27</th>\n",
       "      <th>28</th>\n",
       "      <th>29</th>\n",
       "      <th>30</th>\n",
       "      <th>31</th>\n",
       "      <th>32</th>\n",
       "      <th>33</th>\n",
       "      <th>label</th>\n",
       "    </tr>\n",
       "  </thead>\n",
       "  <tbody>\n",
       "    <tr>\n",
       "      <th>0</th>\n",
       "      <td>1</td>\n",
       "      <td>0</td>\n",
       "      <td>0.99539</td>\n",
       "      <td>-0.05889</td>\n",
       "      <td>0.85243</td>\n",
       "      <td>0.02306</td>\n",
       "      <td>0.83398</td>\n",
       "      <td>-0.37708</td>\n",
       "      <td>1.00000</td>\n",
       "      <td>0.03760</td>\n",
       "      <td>...</td>\n",
       "      <td>-0.51171</td>\n",
       "      <td>0.41078</td>\n",
       "      <td>-0.46168</td>\n",
       "      <td>0.21266</td>\n",
       "      <td>-0.34090</td>\n",
       "      <td>0.42267</td>\n",
       "      <td>-0.54487</td>\n",
       "      <td>0.18641</td>\n",
       "      <td>-0.45300</td>\n",
       "      <td>g</td>\n",
       "    </tr>\n",
       "    <tr>\n",
       "      <th>1</th>\n",
       "      <td>1</td>\n",
       "      <td>0</td>\n",
       "      <td>1.00000</td>\n",
       "      <td>-0.18829</td>\n",
       "      <td>0.93035</td>\n",
       "      <td>-0.36156</td>\n",
       "      <td>-0.10868</td>\n",
       "      <td>-0.93597</td>\n",
       "      <td>1.00000</td>\n",
       "      <td>-0.04549</td>\n",
       "      <td>...</td>\n",
       "      <td>-0.26569</td>\n",
       "      <td>-0.20468</td>\n",
       "      <td>-0.18401</td>\n",
       "      <td>-0.19040</td>\n",
       "      <td>-0.11593</td>\n",
       "      <td>-0.16626</td>\n",
       "      <td>-0.06288</td>\n",
       "      <td>-0.13738</td>\n",
       "      <td>-0.02447</td>\n",
       "      <td>b</td>\n",
       "    </tr>\n",
       "    <tr>\n",
       "      <th>2</th>\n",
       "      <td>1</td>\n",
       "      <td>0</td>\n",
       "      <td>1.00000</td>\n",
       "      <td>-0.03365</td>\n",
       "      <td>1.00000</td>\n",
       "      <td>0.00485</td>\n",
       "      <td>1.00000</td>\n",
       "      <td>-0.12062</td>\n",
       "      <td>0.88965</td>\n",
       "      <td>0.01198</td>\n",
       "      <td>...</td>\n",
       "      <td>-0.40220</td>\n",
       "      <td>0.58984</td>\n",
       "      <td>-0.22145</td>\n",
       "      <td>0.43100</td>\n",
       "      <td>-0.17365</td>\n",
       "      <td>0.60436</td>\n",
       "      <td>-0.24180</td>\n",
       "      <td>0.56045</td>\n",
       "      <td>-0.38238</td>\n",
       "      <td>g</td>\n",
       "    </tr>\n",
       "    <tr>\n",
       "      <th>3</th>\n",
       "      <td>1</td>\n",
       "      <td>0</td>\n",
       "      <td>1.00000</td>\n",
       "      <td>-0.45161</td>\n",
       "      <td>1.00000</td>\n",
       "      <td>1.00000</td>\n",
       "      <td>0.71216</td>\n",
       "      <td>-1.00000</td>\n",
       "      <td>0.00000</td>\n",
       "      <td>0.00000</td>\n",
       "      <td>...</td>\n",
       "      <td>0.90695</td>\n",
       "      <td>0.51613</td>\n",
       "      <td>1.00000</td>\n",
       "      <td>1.00000</td>\n",
       "      <td>-0.20099</td>\n",
       "      <td>0.25682</td>\n",
       "      <td>1.00000</td>\n",
       "      <td>-0.32382</td>\n",
       "      <td>1.00000</td>\n",
       "      <td>b</td>\n",
       "    </tr>\n",
       "    <tr>\n",
       "      <th>4</th>\n",
       "      <td>1</td>\n",
       "      <td>0</td>\n",
       "      <td>1.00000</td>\n",
       "      <td>-0.02401</td>\n",
       "      <td>0.94140</td>\n",
       "      <td>0.06531</td>\n",
       "      <td>0.92106</td>\n",
       "      <td>-0.23255</td>\n",
       "      <td>0.77152</td>\n",
       "      <td>-0.16399</td>\n",
       "      <td>...</td>\n",
       "      <td>-0.65158</td>\n",
       "      <td>0.13290</td>\n",
       "      <td>-0.53206</td>\n",
       "      <td>0.02431</td>\n",
       "      <td>-0.62197</td>\n",
       "      <td>-0.05707</td>\n",
       "      <td>-0.59573</td>\n",
       "      <td>-0.04608</td>\n",
       "      <td>-0.65697</td>\n",
       "      <td>g</td>\n",
       "    </tr>\n",
       "  </tbody>\n",
       "</table>\n",
       "<p>5 rows × 35 columns</p>\n",
       "</div>"
      ],
      "text/plain": [
       "   0  1        2        3        4        5        6        7        8  \\\n",
       "0  1  0  0.99539 -0.05889  0.85243  0.02306  0.83398 -0.37708  1.00000   \n",
       "1  1  0  1.00000 -0.18829  0.93035 -0.36156 -0.10868 -0.93597  1.00000   \n",
       "2  1  0  1.00000 -0.03365  1.00000  0.00485  1.00000 -0.12062  0.88965   \n",
       "3  1  0  1.00000 -0.45161  1.00000  1.00000  0.71216 -1.00000  0.00000   \n",
       "4  1  0  1.00000 -0.02401  0.94140  0.06531  0.92106 -0.23255  0.77152   \n",
       "\n",
       "         9  ...       25       26       27       28       29       30  \\\n",
       "0  0.03760  ... -0.51171  0.41078 -0.46168  0.21266 -0.34090  0.42267   \n",
       "1 -0.04549  ... -0.26569 -0.20468 -0.18401 -0.19040 -0.11593 -0.16626   \n",
       "2  0.01198  ... -0.40220  0.58984 -0.22145  0.43100 -0.17365  0.60436   \n",
       "3  0.00000  ...  0.90695  0.51613  1.00000  1.00000 -0.20099  0.25682   \n",
       "4 -0.16399  ... -0.65158  0.13290 -0.53206  0.02431 -0.62197 -0.05707   \n",
       "\n",
       "        31       32       33  label  \n",
       "0 -0.54487  0.18641 -0.45300      g  \n",
       "1 -0.06288 -0.13738 -0.02447      b  \n",
       "2 -0.24180  0.56045 -0.38238      g  \n",
       "3  1.00000 -0.32382  1.00000      b  \n",
       "4 -0.59573 -0.04608 -0.65697      g  \n",
       "\n",
       "[5 rows x 35 columns]"
      ]
     },
     "execution_count": 527,
     "metadata": {},
     "output_type": "execute_result"
    }
   ],
   "source": [
    "ionosphere_data.rename(columns = {34:'label'}, inplace=True)\n",
    "ionosphere_data.head()"
   ]
  },
  {
   "cell_type": "markdown",
   "metadata": {},
   "source": [
    "We start by splitting the data in train, val and test sets before doing any exploratory data analysis to prevent leakage of information from the validaton/test set into our feature engineering process."
   ]
  },
  {
   "cell_type": "code",
   "execution_count": 528,
   "metadata": {},
   "outputs": [],
   "source": [
    "ionosphere_train, ionosphere_test = train_test_split(ionosphere_data, test_size=0.15, random_state=42)"
   ]
  },
  {
   "cell_type": "code",
   "execution_count": 529,
   "metadata": {},
   "outputs": [],
   "source": [
    "ionosphere_train.reset_index(inplace=True,drop=True)\n",
    "ionosphere_test.reset_index(inplace=True, drop=True)"
   ]
  },
  {
   "cell_type": "markdown",
   "metadata": {},
   "source": [
    "There are no null features nor any missing labels."
   ]
  },
  {
   "cell_type": "code",
   "execution_count": 530,
   "metadata": {
    "colab": {
     "base_uri": "https://localhost:8080/",
     "height": 728
    },
    "colab_type": "code",
    "id": "fWANzwx6_gpz",
    "outputId": "ef5b4a2c-a6fa-432a-f4f5-67f4ba2453c4"
   },
   "outputs": [
    {
     "name": "stdout",
     "output_type": "stream",
     "text": [
      "<class 'pandas.core.frame.DataFrame'>\n",
      "RangeIndex: 298 entries, 0 to 297\n",
      "Data columns (total 35 columns):\n",
      " #   Column  Non-Null Count  Dtype  \n",
      "---  ------  --------------  -----  \n",
      " 0   0       298 non-null    int64  \n",
      " 1   1       298 non-null    int64  \n",
      " 2   2       298 non-null    float64\n",
      " 3   3       298 non-null    float64\n",
      " 4   4       298 non-null    float64\n",
      " 5   5       298 non-null    float64\n",
      " 6   6       298 non-null    float64\n",
      " 7   7       298 non-null    float64\n",
      " 8   8       298 non-null    float64\n",
      " 9   9       298 non-null    float64\n",
      " 10  10      298 non-null    float64\n",
      " 11  11      298 non-null    float64\n",
      " 12  12      298 non-null    float64\n",
      " 13  13      298 non-null    float64\n",
      " 14  14      298 non-null    float64\n",
      " 15  15      298 non-null    float64\n",
      " 16  16      298 non-null    float64\n",
      " 17  17      298 non-null    float64\n",
      " 18  18      298 non-null    float64\n",
      " 19  19      298 non-null    float64\n",
      " 20  20      298 non-null    float64\n",
      " 21  21      298 non-null    float64\n",
      " 22  22      298 non-null    float64\n",
      " 23  23      298 non-null    float64\n",
      " 24  24      298 non-null    float64\n",
      " 25  25      298 non-null    float64\n",
      " 26  26      298 non-null    float64\n",
      " 27  27      298 non-null    float64\n",
      " 28  28      298 non-null    float64\n",
      " 29  29      298 non-null    float64\n",
      " 30  30      298 non-null    float64\n",
      " 31  31      298 non-null    float64\n",
      " 32  32      298 non-null    float64\n",
      " 33  33      298 non-null    float64\n",
      " 34  label   298 non-null    object \n",
      "dtypes: float64(32), int64(2), object(1)\n",
      "memory usage: 81.6+ KB\n"
     ]
    }
   ],
   "source": [
    "ionosphere_train.info()"
   ]
  },
  {
   "cell_type": "code",
   "execution_count": 531,
   "metadata": {
    "colab": {
     "base_uri": "https://localhost:8080/",
     "height": 70
    },
    "colab_type": "code",
    "id": "AhobtNgdFSjw",
    "outputId": "43ef90fc-f9b4-4ad8-8420-a36568fcf3e1"
   },
   "outputs": [
    {
     "data": {
      "text/plain": [
       "g    194\n",
       "b    104\n",
       "Name: label, dtype: int64"
      ]
     },
     "execution_count": 531,
     "metadata": {},
     "output_type": "execute_result"
    }
   ],
   "source": [
    "ionosphere_train['label'].value_counts()"
   ]
  },
  {
   "cell_type": "markdown",
   "metadata": {},
   "source": [
    "We see that there are more good examples than bad examples, but no severe skewing. "
   ]
  },
  {
   "cell_type": "code",
   "execution_count": 532,
   "metadata": {
    "colab": {
     "base_uri": "https://localhost:8080/",
     "height": 312
    },
    "colab_type": "code",
    "id": "mbOz1ApvV5aU",
    "outputId": "a2a7120a-cbb0-4002-9071-176f2e99ec37"
   },
   "outputs": [
    {
     "data": {
      "text/plain": [
       "Text(0.5, 1.0, 'Label Distribution')"
      ]
     },
     "execution_count": 532,
     "metadata": {},
     "output_type": "execute_result"
    },
    {
     "data": {
      "image/png": "[encoded data removed]",
      "text/plain": [
       "<Figure size 432x288 with 1 Axes>"
      ]
     },
     "metadata": {
      "needs_background": "light"
     },
     "output_type": "display_data"
    }
   ],
   "source": [
    "fig = sns.countplot(x='label', data=ionosphere_data)\n",
    "plt.xticks(np.arange(2), [\"Good\", \"Bad\"])\n",
    "plt.title(\"Label Distribution\")\n",
    "\n",
    "#More bad examples than good examples"
   ]
  },
  {
   "cell_type": "markdown",
   "metadata": {},
   "source": [
    "In computing statistical metrics of each column, its observed that the second column (the first imaginary reading) is ALL zeros. Thus this is a **zero variance predictor** and provides no additional information. It can be dropped before training any models.\n",
    "\n",
    "It's also observed that features are bounded between -1 and 1, and that the mean for imaginary features is typically smaller than those for the real features."
   ]
  },
  {
   "cell_type": "code",
   "execution_count": 533,
   "metadata": {
    "colab": {
     "base_uri": "https://localhost:8080/",
     "height": 311
    },
    "colab_type": "code",
    "id": "u0jGk6XaF0SA",
    "outputId": "4a69b2ae-317c-4ea5-d366-44cc43a6407e"
   },
   "outputs": [
    {
     "data": {
      "text/html": [
       "<div>\n",
       "<style scoped>\n",
       "    .dataframe tbody tr th:only-of-type {\n",
       "        vertical-align: middle;\n",
       "    }\n",
       "\n",
       "    .dataframe tbody tr th {\n",
       "        vertical-align: top;\n",
       "    }\n",
       "\n",
       "    .dataframe thead th {\n",
       "        text-align: right;\n",
       "    }\n",
       "</style>\n",
       "<table border=\"1\" class=\"dataframe\">\n",
       "  <thead>\n",
       "    <tr style=\"text-align: right;\">\n",
       "      <th></th>\n",
       "      <th>0</th>\n",
       "      <th>1</th>\n",
       "      <th>2</th>\n",
       "      <th>3</th>\n",
       "      <th>4</th>\n",
       "      <th>5</th>\n",
       "      <th>6</th>\n",
       "      <th>7</th>\n",
       "      <th>8</th>\n",
       "      <th>9</th>\n",
       "      <th>...</th>\n",
       "      <th>24</th>\n",
       "      <th>25</th>\n",
       "      <th>26</th>\n",
       "      <th>27</th>\n",
       "      <th>28</th>\n",
       "      <th>29</th>\n",
       "      <th>30</th>\n",
       "      <th>31</th>\n",
       "      <th>32</th>\n",
       "      <th>33</th>\n",
       "    </tr>\n",
       "  </thead>\n",
       "  <tbody>\n",
       "    <tr>\n",
       "      <th>count</th>\n",
       "      <td>298.000000</td>\n",
       "      <td>298.0</td>\n",
       "      <td>298.000000</td>\n",
       "      <td>298.000000</td>\n",
       "      <td>298.000000</td>\n",
       "      <td>298.000000</td>\n",
       "      <td>298.000000</td>\n",
       "      <td>298.000000</td>\n",
       "      <td>298.000000</td>\n",
       "      <td>298.000000</td>\n",
       "      <td>...</td>\n",
       "      <td>298.000000</td>\n",
       "      <td>298.000000</td>\n",
       "      <td>298.000000</td>\n",
       "      <td>298.000000</td>\n",
       "      <td>298.000000</td>\n",
       "      <td>298.000000</td>\n",
       "      <td>298.000000</td>\n",
       "      <td>298.000000</td>\n",
       "      <td>298.000000</td>\n",
       "      <td>298.000000</td>\n",
       "    </tr>\n",
       "    <tr>\n",
       "      <th>mean</th>\n",
       "      <td>0.892617</td>\n",
       "      <td>0.0</td>\n",
       "      <td>0.650708</td>\n",
       "      <td>0.014047</td>\n",
       "      <td>0.609705</td>\n",
       "      <td>0.115762</td>\n",
       "      <td>0.568187</td>\n",
       "      <td>0.100235</td>\n",
       "      <td>0.524132</td>\n",
       "      <td>0.174577</td>\n",
       "      <td>...</td>\n",
       "      <td>0.411287</td>\n",
       "      <td>-0.056966</td>\n",
       "      <td>0.548218</td>\n",
       "      <td>-0.060028</td>\n",
       "      <td>0.385137</td>\n",
       "      <td>-0.046585</td>\n",
       "      <td>0.360436</td>\n",
       "      <td>0.004759</td>\n",
       "      <td>0.358392</td>\n",
       "      <td>0.010269</td>\n",
       "    </tr>\n",
       "    <tr>\n",
       "      <th>std</th>\n",
       "      <td>0.310120</td>\n",
       "      <td>0.0</td>\n",
       "      <td>0.498457</td>\n",
       "      <td>0.447381</td>\n",
       "      <td>0.525085</td>\n",
       "      <td>0.458115</td>\n",
       "      <td>0.491967</td>\n",
       "      <td>0.517054</td>\n",
       "      <td>0.519443</td>\n",
       "      <td>0.479678</td>\n",
       "      <td>...</td>\n",
       "      <td>0.574199</td>\n",
       "      <td>0.503335</td>\n",
       "      <td>0.521692</td>\n",
       "      <td>0.553056</td>\n",
       "      <td>0.581067</td>\n",
       "      <td>0.509759</td>\n",
       "      <td>0.581169</td>\n",
       "      <td>0.524257</td>\n",
       "      <td>0.524613</td>\n",
       "      <td>0.467045</td>\n",
       "    </tr>\n",
       "    <tr>\n",
       "      <th>min</th>\n",
       "      <td>0.000000</td>\n",
       "      <td>0.0</td>\n",
       "      <td>-1.000000</td>\n",
       "      <td>-1.000000</td>\n",
       "      <td>-1.000000</td>\n",
       "      <td>-1.000000</td>\n",
       "      <td>-1.000000</td>\n",
       "      <td>-1.000000</td>\n",
       "      <td>-1.000000</td>\n",
       "      <td>-1.000000</td>\n",
       "      <td>...</td>\n",
       "      <td>-1.000000</td>\n",
       "      <td>-1.000000</td>\n",
       "      <td>-1.000000</td>\n",
       "      <td>-1.000000</td>\n",
       "      <td>-1.000000</td>\n",
       "      <td>-1.000000</td>\n",
       "      <td>-1.000000</td>\n",
       "      <td>-1.000000</td>\n",
       "      <td>-1.000000</td>\n",
       "      <td>-1.000000</td>\n",
       "    </tr>\n",
       "    <tr>\n",
       "      <th>25%</th>\n",
       "      <td>1.000000</td>\n",
       "      <td>0.0</td>\n",
       "      <td>0.483323</td>\n",
       "      <td>-0.078827</td>\n",
       "      <td>0.428672</td>\n",
       "      <td>-0.026435</td>\n",
       "      <td>0.275173</td>\n",
       "      <td>-0.056368</td>\n",
       "      <td>0.143827</td>\n",
       "      <td>-0.046038</td>\n",
       "      <td>...</td>\n",
       "      <td>0.000000</td>\n",
       "      <td>-0.295722</td>\n",
       "      <td>0.330307</td>\n",
       "      <td>-0.420000</td>\n",
       "      <td>0.000000</td>\n",
       "      <td>-0.258570</td>\n",
       "      <td>0.000000</td>\n",
       "      <td>-0.250748</td>\n",
       "      <td>0.000000</td>\n",
       "      <td>-0.188195</td>\n",
       "    </tr>\n",
       "    <tr>\n",
       "      <th>50%</th>\n",
       "      <td>1.000000</td>\n",
       "      <td>0.0</td>\n",
       "      <td>0.881065</td>\n",
       "      <td>0.008750</td>\n",
       "      <td>0.833680</td>\n",
       "      <td>0.021170</td>\n",
       "      <td>0.771980</td>\n",
       "      <td>0.011710</td>\n",
       "      <td>0.702940</td>\n",
       "      <td>0.023080</td>\n",
       "      <td>...</td>\n",
       "      <td>0.564405</td>\n",
       "      <td>-0.010615</td>\n",
       "      <td>0.719225</td>\n",
       "      <td>-0.015610</td>\n",
       "      <td>0.518990</td>\n",
       "      <td>0.000000</td>\n",
       "      <td>0.452130</td>\n",
       "      <td>0.000000</td>\n",
       "      <td>0.419280</td>\n",
       "      <td>0.000000</td>\n",
       "    </tr>\n",
       "    <tr>\n",
       "      <th>75%</th>\n",
       "      <td>1.000000</td>\n",
       "      <td>0.0</td>\n",
       "      <td>1.000000</td>\n",
       "      <td>0.160988</td>\n",
       "      <td>1.000000</td>\n",
       "      <td>0.310965</td>\n",
       "      <td>0.979670</td>\n",
       "      <td>0.366835</td>\n",
       "      <td>0.961083</td>\n",
       "      <td>0.500633</td>\n",
       "      <td>...</td>\n",
       "      <td>0.911137</td>\n",
       "      <td>0.157922</td>\n",
       "      <td>1.000000</td>\n",
       "      <td>0.154862</td>\n",
       "      <td>0.903390</td>\n",
       "      <td>0.132035</td>\n",
       "      <td>0.874508</td>\n",
       "      <td>0.211528</td>\n",
       "      <td>0.837938</td>\n",
       "      <td>0.166615</td>\n",
       "    </tr>\n",
       "    <tr>\n",
       "      <th>max</th>\n",
       "      <td>1.000000</td>\n",
       "      <td>0.0</td>\n",
       "      <td>1.000000</td>\n",
       "      <td>1.000000</td>\n",
       "      <td>1.000000</td>\n",
       "      <td>1.000000</td>\n",
       "      <td>1.000000</td>\n",
       "      <td>1.000000</td>\n",
       "      <td>1.000000</td>\n",
       "      <td>1.000000</td>\n",
       "      <td>...</td>\n",
       "      <td>1.000000</td>\n",
       "      <td>1.000000</td>\n",
       "      <td>1.000000</td>\n",
       "      <td>1.000000</td>\n",
       "      <td>1.000000</td>\n",
       "      <td>1.000000</td>\n",
       "      <td>1.000000</td>\n",
       "      <td>1.000000</td>\n",
       "      <td>1.000000</td>\n",
       "      <td>1.000000</td>\n",
       "    </tr>\n",
       "  </tbody>\n",
       "</table>\n",
       "<p>8 rows × 34 columns</p>\n",
       "</div>"
      ],
      "text/plain": [
       "               0      1           2           3           4           5   \\\n",
       "count  298.000000  298.0  298.000000  298.000000  298.000000  298.000000   \n",
       "mean     0.892617    0.0    0.650708    0.014047    0.609705    0.115762   \n",
       "std      0.310120    0.0    0.498457    0.447381    0.525085    0.458115   \n",
       "min      0.000000    0.0   -1.000000   -1.000000   -1.000000   -1.000000   \n",
       "25%      1.000000    0.0    0.483323   -0.078827    0.428672   -0.026435   \n",
       "50%      1.000000    0.0    0.881065    0.008750    0.833680    0.021170   \n",
       "75%      1.000000    0.0    1.000000    0.160988    1.000000    0.310965   \n",
       "max      1.000000    0.0    1.000000    1.000000    1.000000    1.000000   \n",
       "\n",
       "               6           7           8           9   ...          24  \\\n",
       "count  298.000000  298.000000  298.000000  298.000000  ...  298.000000   \n",
       "mean     0.568187    0.100235    0.524132    0.174577  ...    0.411287   \n",
       "std      0.491967    0.517054    0.519443    0.479678  ...    0.574199   \n",
       "min     -1.000000   -1.000000   -1.000000   -1.000000  ...   -1.000000   \n",
       "25%      0.275173   -0.056368    0.143827   -0.046038  ...    0.000000   \n",
       "50%      0.771980    0.011710    0.702940    0.023080  ...    0.564405   \n",
       "75%      0.979670    0.366835    0.961083    0.500633  ...    0.911137   \n",
       "max      1.000000    1.000000    1.000000    1.000000  ...    1.000000   \n",
       "\n",
       "               25          26          27          28          29          30  \\\n",
       "count  298.000000  298.000000  298.000000  298.000000  298.000000  298.000000   \n",
       "mean    -0.056966    0.548218   -0.060028    0.385137   -0.046585    0.360436   \n",
       "std      0.503335    0.521692    0.553056    0.581067    0.509759    0.581169   \n",
       "min     -1.000000   -1.000000   -1.000000   -1.000000   -1.000000   -1.000000   \n",
       "25%     -0.295722    0.330307   -0.420000    0.000000   -0.258570    0.000000   \n",
       "50%     -0.010615    0.719225   -0.015610    0.518990    0.000000    0.452130   \n",
       "75%      0.157922    1.000000    0.154862    0.903390    0.132035    0.874508   \n",
       "max      1.000000    1.000000    1.000000    1.000000    1.000000    1.000000   \n",
       "\n",
       "               31          32          33  \n",
       "count  298.000000  298.000000  298.000000  \n",
       "mean     0.004759    0.358392    0.010269  \n",
       "std      0.524257    0.524613    0.467045  \n",
       "min     -1.000000   -1.000000   -1.000000  \n",
       "25%     -0.250748    0.000000   -0.188195  \n",
       "50%      0.000000    0.419280    0.000000  \n",
       "75%      0.211528    0.837938    0.166615  \n",
       "max      1.000000    1.000000    1.000000  \n",
       "\n",
       "[8 rows x 34 columns]"
      ]
     },
     "execution_count": 533,
     "metadata": {},
     "output_type": "execute_result"
    }
   ],
   "source": [
    "ionosphere_train.describe()"
   ]
  },
  {
   "cell_type": "markdown",
   "metadata": {},
   "source": [
    "To get a better sense of the data, we plot the first few examples in their natural form (real/imaginary time series).\n",
    "\n",
    "Based on initial observations, the bad examples seem to have more variance in both the imaginary and real time-series (i.e. they oscillate more wildly). Additionally, in the good examples, the real time series and the imaginary time series don't overlap as often and their magnitudes appear to maintain a bit more of an absolute distance away from eachother."
   ]
  },
  {
   "cell_type": "code",
   "execution_count": 534,
   "metadata": {
    "colab": {
     "base_uri": "https://localhost:8080/",
     "height": 864
    },
    "colab_type": "code",
    "id": "v5Mb8FlHDk7v",
    "outputId": "6b9d7e4d-7039-465f-8808-06aa513a858f"
   },
   "outputs": [
    {
     "data": {
      "image/png": "[encoded data removed]",
      "text/plain": [
       "<Figure size 720x1080 with 10 Axes>"
      ]
     },
     "metadata": {
      "needs_background": "light"
     },
     "output_type": "display_data"
    }
   ],
   "source": [
    "fig, axs = plt.subplots(10, 1, sharex='col')\n",
    "\n",
    "for i in range(10):\n",
    "    example = list(ionosphere_train.loc[i])\n",
    "    real = example[0:-1:2]\n",
    "    imaginary = example[1::2]\n",
    "\n",
    "    axs[i].plot(np.arange(len(real)), real, 'b', label=\"Real\")\n",
    "    axs[i].plot(np.arange(len(imaginary)), imaginary, 'r', label=\"Imaginary\")\n",
    "    axs[i].set_ylabel(\"Power\")\n",
    "    axs[i].legend()\n",
    "\n",
    "    if example[-1] == 'g':\n",
    "        plt.text(0.5, 0.8,'GOOD', transform = axs[i].transAxes)\n",
    "    else:\n",
    "        plt.text(0.5, 0.8,'BAD', transform = axs[i].transAxes)\n",
    "\n",
    "fig.set_size_inches(10, 15)"
   ]
  },
  {
   "cell_type": "markdown",
   "metadata": {},
   "source": [
    "We continue by exploring basic statistical measures of each time series. We start by plotting the mean time series for the good and bad examples and find that, as we observed, the good examples tend to maintain a larger separation between the real and imaginary time series. \n",
    "\n",
    "This might indicate that mean distance between the real/imaginary time series would be a good feature to engineer, but it's important to realize that taking this mean is a **linear operation** on our features and, in reality, would provide no new information."
   ]
  },
  {
   "cell_type": "code",
   "execution_count": 535,
   "metadata": {
    "colab": {
     "base_uri": "https://localhost:8080/",
     "height": 652
    },
    "colab_type": "code",
    "id": "nJtPU1P3NKCI",
    "outputId": "5f6cdb95-276c-40ef-9d11-9199aee8f80a"
   },
   "outputs": [
    {
     "data": {
      "text/plain": [
       "Text(0.5, 0.07, 'Time')"
      ]
     },
     "execution_count": 535,
     "metadata": {},
     "output_type": "execute_result"
    },
    {
     "data": {
      "image/png": "[encoded data removed]",
      "text/plain": [
       "<Figure size 720x720 with 2 Axes>"
      ]
     },
     "metadata": {
      "needs_background": "light"
     },
     "output_type": "display_data"
    }
   ],
   "source": [
    "#Show average time series for GOOD vs BAD examples\n",
    "good_means = np.mean(ionosphere_train[ionosphere_train[\"label\"] == \"g\"], axis=0)\n",
    "bad_means = np.mean(ionosphere_train[ionosphere_train[\"label\"] == \"b\"], axis=0)\n",
    "\n",
    "good_std = np.std(ionosphere_train[ionosphere_train[\"label\"] == \"g\"], axis=0)\n",
    "bad_std = np.std(ionosphere_train[ionosphere_train[\"label\"] == \"b\"], axis=0)\n",
    "\n",
    "fig, axs = plt.subplots(2, sharex='col')\n",
    "axs[0].errorbar(np.arange(17), good_means[0:-1:2], yerr = good_std[0:-1:2], label=\"Real\")\n",
    "axs[0].errorbar(np.arange(17), good_means[1::2], yerr = good_std[1::2], label=\"Imaginary\")\n",
    "axs[0].legend()\n",
    "axs[0].set_title(\"Good Examples: Average Time Series\")\n",
    "axs[0].set_ylabel(\"Power $\\pm$ 1SD\")\n",
    "\n",
    "axs[1].errorbar(np.arange(17), bad_means[0:-1:2], yerr = bad_std[0:-1:2], label=\"Real\")\n",
    "axs[1].errorbar(np.arange(17), bad_means[1::2], yerr = bad_std[1::2], label=\"Imaginary\")\n",
    "axs[1].legend()\n",
    "axs[1].set_title(\"Bad Examples: Average Time Series\")\n",
    "axs[1].set_ylabel(\"Power $\\pm$ 1SD\")\n",
    "\n",
    "fig.set_size_inches(10.0, 10.0)\n",
    "fig.text(0.5, 0.07, 'Time', ha='center', va='center')"
   ]
  },
  {
   "cell_type": "markdown",
   "metadata": {},
   "source": [
    "Next, we visualizing the standard deviation of the good and bad time series, and observe that good examples tend to have a lower standard deviation in both the real and imaginary series. "
   ]
  },
  {
   "cell_type": "code",
   "execution_count": 536,
   "metadata": {
    "colab": {
     "base_uri": "https://localhost:8080/",
     "height": 314
    },
    "colab_type": "code",
    "id": "Po8tXU6HIYTk",
    "outputId": "07dd3f9e-32b7-463e-dd98-642409080b54"
   },
   "outputs": [
    {
     "data": {
      "text/plain": [
       "Text(0.5, 1.0, 'Standard Deviations: Good vs. Bad Examples')"
      ]
     },
     "execution_count": 536,
     "metadata": {},
     "output_type": "execute_result"
    },
    {
     "data": {
      "image/png": "[encoded data removed]",
      "text/plain": [
       "<Figure size 432x288 with 1 Axes>"
      ]
     },
     "metadata": {
      "needs_background": "light"
     },
     "output_type": "display_data"
    }
   ],
   "source": [
    "real_std = np.std(ionosphere_train[ionosphere_train.columns[0:-1:2]], axis=1)\n",
    "im_std = np.std(ionosphere_train[ionosphere_train.columns[1:-1:2]], axis=1)\n",
    "std_df = pd.DataFrame({'std_real': real_std, 'std_im': im_std}, dtype=float)\n",
    "\n",
    "std_melted = pd.melt(pd.concat([std_df, ionosphere_train['label']], axis=1), id_vars=[\"label\"], value_vars=[\"std_real\", \"std_im\"], var_name = \"Classification\", value_name = \"Standard Deviation\")\n",
    "sns.boxplot(x=\"Classification\", y=\"Standard Deviation\", hue=\"label\", data=std_melted, palette=\"Set2\")\n",
    "\n",
    "plt.title(\"Standard Deviations: Good vs. Bad Examples\")"
   ]
  },
  {
   "cell_type": "markdown",
   "metadata": {},
   "source": [
    "Next we observe the distribution of sample means for both the real and imaginary time series. The means of bad examples generally seem to be centered around 0. This is evident in both histograms; the scatter plots also both show a cluster of bad samples around (Re = 0.0, Im = 0.0). "
   ]
  },
  {
   "cell_type": "code",
   "execution_count": 537,
   "metadata": {
    "colab": {
     "base_uri": "https://localhost:8080/",
     "height": 675
    },
    "colab_type": "code",
    "id": "_0TG9cFDxLZm",
    "outputId": "851f5614-1d2c-4e81-b7e3-2abf7c4fc0b4"
   },
   "outputs": [
    {
     "name": "stderr",
     "output_type": "stream",
     "text": [
      "C:\\Users\\Lenovo\\Miniconda3\\envs\\ml\\lib\\site-packages\\ipykernel_launcher.py:6: SettingWithCopyWarning: \n",
      "A value is trying to be set on a copy of a slice from a DataFrame\n",
      "\n",
      "See the caveats in the documentation: https://pandas.pydata.org/pandas-docs/stable/user_guide/indexing.html#returning-a-view-versus-a-copy\n",
      "  \n",
      "C:\\Users\\Lenovo\\Miniconda3\\envs\\ml\\lib\\site-packages\\ipykernel_launcher.py:7: SettingWithCopyWarning: \n",
      "A value is trying to be set on a copy of a slice from a DataFrame\n",
      "\n",
      "See the caveats in the documentation: https://pandas.pydata.org/pandas-docs/stable/user_guide/indexing.html#returning-a-view-versus-a-copy\n",
      "  import sys\n"
     ]
    },
    {
     "data": {
      "text/plain": [
       "<seaborn.axisgrid.PairGrid at 0x29aeb512708>"
      ]
     },
     "execution_count": 537,
     "metadata": {},
     "output_type": "execute_result"
    },
    {
     "data": {
      "image/png": "[encoded data removed]",
      "text/plain": [
       "<Figure size 710.125x432 with 6 Axes>"
      ]
     },
     "metadata": {
      "needs_background": "light"
     },
     "output_type": "display_data"
    }
   ],
   "source": [
    "real_mean = np.mean(ionosphere_train[ionosphere_train.columns[0:-1:2]], axis=1)\n",
    "im_mean = np.mean(ionosphere_train[ionosphere_train.columns[1::2]], axis=1)\n",
    "\n",
    "dist_df = pd.concat([real_mean, im_mean, ionosphere_train['label']], axis=1)\n",
    "dist_df.columns = [\"Real Mean\", \"Imaginary Mean\", \"Label\"]\n",
    "dist_df[\"Label\"][dist_df[\"Label\"]=='g'] = \"Good\"\n",
    "dist_df[\"Label\"][dist_df[\"Label\"]=='b'] = \"Bad\"\n",
    "sns.pairplot(dist_df, hue='Label', height=3, aspect=1.5)"
   ]
  },
  {
   "cell_type": "markdown",
   "metadata": {},
   "source": [
    "To further explore how the real and imaginary time series relate to eachother, plot Pearson's correlation coefficient between the real/imaginary components of each reading. In the bad examples we don't find any significant correlation for any pairing. However, in the good examples, we notice moderate correlation at time lags of 2 (-0.58), 3 (-0.72), 4 (-0.62), and 5 (-0.51). \n",
    "\n",
    "Because the first imaginary measurement is always 0, the correlation cannot be computed for a 0 time lag. "
   ]
  },
  {
   "cell_type": "code",
   "execution_count": 538,
   "metadata": {
    "colab": {},
    "colab_type": "code",
    "id": "AqlPtJCSINJ7"
   },
   "outputs": [],
   "source": [
    "good_ionosphere = ionosphere_train[ionosphere_train['label'] == 'g'].copy()\n",
    "good_ionosphere.drop([0, 1, \"label\"], axis=1,  inplace=True)\n",
    "bad_ionosphere = ionosphere_train[ionosphere_train['label'] == 'b'].copy()\n",
    "bad_ionosphere.drop([0, 1, \"label\"], axis=1, inplace=True)"
   ]
  },
  {
   "cell_type": "code",
   "execution_count": 539,
   "metadata": {
    "scrolled": true
   },
   "outputs": [
    {
     "data": {
      "text/plain": [
       "Text(0, 0.5, \"Pearson's Correlation\")"
      ]
     },
     "execution_count": 539,
     "metadata": {},
     "output_type": "execute_result"
    },
    {
     "data": {
      "image/png": "[encoded data removed]",
      "text/plain": [
       "<Figure size 432x288 with 1 Axes>"
      ]
     },
     "metadata": {
      "needs_background": "light"
     },
     "output_type": "display_data"
    }
   ],
   "source": [
    "good_correlations = []\n",
    "bad_correlations = []\n",
    "for i in range(2, 33, 2):\n",
    "    good_correlations.append(np.corrcoef(good_ionosphere[i], good_ionosphere[i+1])[1,0])\n",
    "    bad_correlations.append(np.corrcoef(bad_ionosphere[i], bad_ionosphere[i+1])[1, 0])\n",
    "\n",
    "fig = plt.figure()\n",
    "plt.plot(np.arange(1, 17), good_correlations, \"b\", label=\"Good\")\n",
    "plt.plot(np.arange(1, 17), bad_correlations, \"r\", label=\"Bad\")\n",
    "plt.legend()\n",
    "plt.title(\"Pearsons' Correlation Coefficients: Real vs. Imaginary\")\n",
    "plt.xlabel(\"Time Lag\")\n",
    "plt.ylabel(\"Pearson's Correlation\")"
   ]
  },
  {
   "cell_type": "markdown",
   "metadata": {},
   "source": [
    "To broaden our analysis, we explore the general correlations between all of the imaginary/real features. This reveals some very insightful structures in the data! One might expect that, in a time series, adjacent measurements are highly correlated (i.e. we assume the time series has some smoothness and does'nt fluctuate wildly between measurements). This is notable in the good examples wherein in a grid pattern emerges in the correlation heatmap. Any real measurement is highly correlated to the adjacent real measurements (i.e. the features \"two away\"). This correlation tapers off as we move further away.\n",
    "\n",
    "However, in the bad examples there is virtually no structure to the correlation heatmap."
   ]
  },
  {
   "cell_type": "code",
   "execution_count": 540,
   "metadata": {
    "colab": {
     "base_uri": "https://localhost:8080/",
     "height": 956
    },
    "colab_type": "code",
    "id": "2e7aYW-CIC0W",
    "outputId": "4fa518f8-df78-4409-aaec-6a1cbb34aa0b"
   },
   "outputs": [
    {
     "data": {
      "image/png": "[encoded data removed]",
      "text/plain": [
       "<Figure size 720x720 with 4 Axes>"
      ]
     },
     "metadata": {
      "needs_background": "light"
     },
     "output_type": "display_data"
    }
   ],
   "source": [
    "total_good_corr = good_ionosphere.corr() #because the first two columns are always 1 or 0, we don't analyze them\n",
    "total_bad_corr = bad_ionosphere.corr()\n",
    "\n",
    "fig2, ax2 = plt.subplots(2)\n",
    "ax2[0].set_title(\"Good Examples: Correlation Heatmap\")\n",
    "ax2[1].set_title(\"Bad Examples: Correlation Heatmap\")\n",
    "\n",
    "\n",
    "sns.heatmap(total_good_corr, ax=ax2[0])\n",
    "sns.heatmap(total_bad_corr, ax=ax2[1])\n",
    "\n",
    "\n",
    "fig2.set_size_inches(10, 10)"
   ]
  },
  {
   "cell_type": "markdown",
   "metadata": {},
   "source": [
    "Based on this insight, it might be valuable to explore the **autocorrelation** of the imaginary/real time series."
   ]
  },
  {
   "cell_type": "code",
   "execution_count": 541,
   "metadata": {
    "colab": {
     "base_uri": "https://localhost:8080/",
     "height": 52
    },
    "colab_type": "code",
    "id": "VX7nYR-AnPhn",
    "outputId": "e1505d87-da48-4332-965d-2ee6264bb394"
   },
   "outputs": [
    {
     "name": "stderr",
     "output_type": "stream",
     "text": [
      "C:\\Users\\Lenovo\\Miniconda3\\envs\\ml\\lib\\site-packages\\numpy\\lib\\function_base.py:2534: RuntimeWarning: invalid value encountered in true_divide\n",
      "  c /= stddev[:, None]\n",
      "C:\\Users\\Lenovo\\Miniconda3\\envs\\ml\\lib\\site-packages\\numpy\\lib\\function_base.py:2535: RuntimeWarning: invalid value encountered in true_divide\n",
      "  c /= stddev[None, :]\n"
     ]
    }
   ],
   "source": [
    "autocorr_real = []\n",
    "autocorr_im = []\n",
    "\n",
    "for example in ionosphere_train.drop(\"label\", axis=1).iterrows():\n",
    "    autocorr_real_sample = []\n",
    "    autocorr_im_sample = []\n",
    "    real_series = example[1][2:-1:2] # Skip first reading\n",
    "    im_series = example[1][3:-1:2]\n",
    "    for lag in range(1, 6):\n",
    "        autocorr_real_sample.append(np.corrcoef(np.array([real_series[:-lag], real_series[lag:]]))[0,1])\n",
    "        autocorr_im_sample.append(np.corrcoef(np.array([im_series[:-lag], im_series[lag:]]))[0,1])\n",
    "    autocorr_real.append(autocorr_real_sample)\n",
    "    autocorr_im.append(autocorr_im_sample)"
   ]
  },
  {
   "cell_type": "code",
   "execution_count": 542,
   "metadata": {},
   "outputs": [],
   "source": [
    "autocorr_real = pd.DataFrame(np.array(autocorr_real), columns=[\"Lag_1\", \"Lag_2\", \"Lag_3\", \"Lag_4\", \"Lag_5\"])\n",
    "autocorr_real[\"label\"] = ionosphere_train[\"label\"]\n",
    "\n",
    "autocorr_im = pd.DataFrame(np.array(autocorr_im), columns=[\"Lag_1\", \"Lag_2\", \"Lag_3\", \"Lag_4\", \"Lag_5\"])\n",
    "autocorr_im[\"label\"] = ionosphere_train[\"label\"]"
   ]
  },
  {
   "cell_type": "markdown",
   "metadata": {},
   "source": [
    "Some null values pop up. We impute these with the mean."
   ]
  },
  {
   "cell_type": "code",
   "execution_count": 543,
   "metadata": {},
   "outputs": [
    {
     "name": "stdout",
     "output_type": "stream",
     "text": [
      "<class 'pandas.core.frame.DataFrame'>\n",
      "RangeIndex: 298 entries, 0 to 297\n",
      "Data columns (total 6 columns):\n",
      " #   Column  Non-Null Count  Dtype  \n",
      "---  ------  --------------  -----  \n",
      " 0   Lag_1   289 non-null    float64\n",
      " 1   Lag_2   288 non-null    float64\n",
      " 2   Lag_3   286 non-null    float64\n",
      " 3   Lag_4   282 non-null    float64\n",
      " 4   Lag_5   280 non-null    float64\n",
      " 5   label   298 non-null    object \n",
      "dtypes: float64(5), object(1)\n",
      "memory usage: 14.1+ KB\n"
     ]
    }
   ],
   "source": [
    "autocorr_real.info()"
   ]
  },
  {
   "cell_type": "code",
   "execution_count": 544,
   "metadata": {},
   "outputs": [
    {
     "name": "stdout",
     "output_type": "stream",
     "text": [
      "<class 'pandas.core.frame.DataFrame'>\n",
      "RangeIndex: 298 entries, 0 to 297\n",
      "Data columns (total 6 columns):\n",
      " #   Column  Non-Null Count  Dtype  \n",
      "---  ------  --------------  -----  \n",
      " 0   Lag_1   298 non-null    float64\n",
      " 1   Lag_2   298 non-null    float64\n",
      " 2   Lag_3   295 non-null    float64\n",
      " 3   Lag_4   295 non-null    float64\n",
      " 4   Lag_5   295 non-null    float64\n",
      " 5   label   298 non-null    object \n",
      "dtypes: float64(5), object(1)\n",
      "memory usage: 14.1+ KB\n"
     ]
    }
   ],
   "source": [
    "autocorr_im.info()"
   ]
  },
  {
   "cell_type": "code",
   "execution_count": 545,
   "metadata": {},
   "outputs": [],
   "source": [
    "autocorr_real.fillna(np.mean(autocorr_real), axis=0, inplace=True)\n",
    "autocorr_im.fillna(np.mean(autocorr_im), axis=0, inplace=True)"
   ]
  },
  {
   "cell_type": "markdown",
   "metadata": {},
   "source": [
    "As expected, the good examples maintain a moderately correlated autocorrelation, particularly for lags of 1 and 2. The bad examples don't show any significant autocorrelation. "
   ]
  },
  {
   "cell_type": "code",
   "execution_count": 546,
   "metadata": {
    "colab": {
     "base_uri": "https://localhost:8080/",
     "height": 298
    },
    "colab_type": "code",
    "id": "uuDADcqFnOyv",
    "outputId": "48d254a6-5a34-4931-d0ee-6c83cd7230eb"
   },
   "outputs": [
    {
     "data": {
      "text/plain": [
       "<matplotlib.axes._subplots.AxesSubplot at 0x29af2c7be48>"
      ]
     },
     "execution_count": 546,
     "metadata": {},
     "output_type": "execute_result"
    },
    {
     "data": {
      "image/png": "[encoded data removed]",
      "text/plain": [
       "<Figure size 432x288 with 1 Axes>"
      ]
     },
     "metadata": {
      "needs_background": "light"
     },
     "output_type": "display_data"
    }
   ],
   "source": [
    "autocorr_real_melted = pd.melt(autocorr_real, id_vars=[\"label\"], value_vars=[\"Lag_1\", \"Lag_2\", \"Lag_3\", \"Lag_4\", \"Lag_5\"], var_name = \"Lag\", value_name = \"Autocorrelation\")\n",
    "sns.boxplot(x=\"Lag\", y=\"Autocorrelation\", hue=\"label\", data=autocorr_real_melted, palette=\"Set2\")"
   ]
  },
  {
   "cell_type": "code",
   "execution_count": 547,
   "metadata": {},
   "outputs": [
    {
     "data": {
      "text/plain": [
       "<matplotlib.axes._subplots.AxesSubplot at 0x29af3b976c8>"
      ]
     },
     "execution_count": 547,
     "metadata": {},
     "output_type": "execute_result"
    },
    {
     "data": {
      "image/png": "[encoded data removed]",
      "text/plain": [
       "<Figure size 432x288 with 1 Axes>"
      ]
     },
     "metadata": {
      "needs_background": "light"
     },
     "output_type": "display_data"
    }
   ],
   "source": [
    "autocorr_im_melted = pd.melt(autocorr_im, id_vars=[\"label\"], value_vars=[\"Lag_1\", \"Lag_2\", \"Lag_3\", \"Lag_4\", \"Lag_5\"], var_name = \"Lag\", value_name = \"Autocorrelation\")\n",
    "sns.boxplot(x=\"Lag\", y=\"Autocorrelation\", hue=\"label\", data=autocorr_im_melted, palette=\"Set2\")"
   ]
  },
  {
   "cell_type": "markdown",
   "metadata": {},
   "source": [
    "In sum, from this statistical exploration, two viable new features have been engineered:\n",
    "* Standard deviation of real/imaginary time series\n",
    "* Autocorrelation of real/imaginary time series at varying time lags\n",
    "\n",
    "We'll compose these into a general DataFrame for new features."
   ]
  },
  {
   "cell_type": "code",
   "execution_count": 548,
   "metadata": {},
   "outputs": [],
   "source": [
    "autocorr_real.drop(\"label\", axis=1, inplace=True)\n",
    "autocorr_real.columns=[\"Lag_1_Real\", \"Lag_2_Real\", \"Lag_3_Real\", \"Lag_4_Real\", \"Lag_5_Real\"]\n",
    "autocorr_im.drop(\"label\", axis=1, inplace=True)\n",
    "autocorr_im.columns=[\"Lag_1_Im\", \"Lag_2_Im\", \"Lag_3_Im\", \"Lag_4_Im\", \"Lag_5_Im\"]\n",
    "new_features_df = pd.concat([autocorr_real, autocorr_im, std_df], axis=1)"
   ]
  },
  {
   "cell_type": "markdown",
   "metadata": {},
   "source": [
    "We also have to compute these features for our test set."
   ]
  },
  {
   "cell_type": "code",
   "execution_count": 549,
   "metadata": {},
   "outputs": [],
   "source": [
    "real_std = np.std(ionosphere_test[ionosphere_test.columns[0:-1:2]], axis=1)\n",
    "im_std = np.std(ionosphere_test[ionosphere_test.columns[1:-1:2]], axis=1)\n",
    "std_df = pd.DataFrame({'std_real': real_std, 'std_im': im_std}, dtype=float)"
   ]
  },
  {
   "cell_type": "code",
   "execution_count": 550,
   "metadata": {},
   "outputs": [
    {
     "name": "stderr",
     "output_type": "stream",
     "text": [
      "C:\\Users\\Lenovo\\Miniconda3\\envs\\ml\\lib\\site-packages\\numpy\\lib\\function_base.py:2534: RuntimeWarning: invalid value encountered in true_divide\n",
      "  c /= stddev[:, None]\n",
      "C:\\Users\\Lenovo\\Miniconda3\\envs\\ml\\lib\\site-packages\\numpy\\lib\\function_base.py:2535: RuntimeWarning: invalid value encountered in true_divide\n",
      "  c /= stddev[None, :]\n"
     ]
    }
   ],
   "source": [
    "autocorr_real = []\n",
    "autocorr_im = []\n",
    "\n",
    "for example in ionosphere_test.drop(\"label\", axis=1).iterrows():\n",
    "    autocorr_real_sample = []\n",
    "    autocorr_im_sample = []\n",
    "    real_series = example[1][2:-1:2] # Skip first reading\n",
    "    im_series = example[1][3:-1:2]\n",
    "    for lag in range(1, 6):\n",
    "        autocorr_real_sample.append(np.corrcoef(np.array([real_series[:-lag], real_series[lag:]]))[0,1])\n",
    "        autocorr_im_sample.append(np.corrcoef(np.array([im_series[:-lag], im_series[lag:]]))[0,1])\n",
    "    autocorr_real.append(autocorr_real_sample)\n",
    "    autocorr_im.append(autocorr_im_sample)"
   ]
  },
  {
   "cell_type": "code",
   "execution_count": 551,
   "metadata": {},
   "outputs": [],
   "source": [
    "autocorr_real = pd.DataFrame(np.array(autocorr_real), columns=[\"Lag_1_Real\", \"Lag_2_Real\", \"Lag_3_Real\", \"Lag_4_Real\", \"Lag_5_Real\"])\n",
    "autocorr_im = pd.DataFrame(np.array(autocorr_im), columns=[\"Lag_1_Im\", \"Lag_2_Im\", \"Lag_3_Im\", \"Lag_4_Im\", \"Lag_5_Im\"])"
   ]
  },
  {
   "cell_type": "code",
   "execution_count": 552,
   "metadata": {},
   "outputs": [],
   "source": [
    "new_features_df_test = pd.concat([autocorr_real, autocorr_im, std_df], axis=1)\n",
    "new_features_df_test.fillna(np.mean(new_features_df_test), axis=0, inplace=True)"
   ]
  },
  {
   "cell_type": "markdown",
   "metadata": {},
   "source": [
    "Finally we should also separate the labels from the features and drop feature \"1\" since we saw it only contained zeros."
   ]
  },
  {
   "cell_type": "code",
   "execution_count": 553,
   "metadata": {},
   "outputs": [
    {
     "name": "stderr",
     "output_type": "stream",
     "text": [
      "C:\\Users\\Lenovo\\Miniconda3\\envs\\ml\\lib\\site-packages\\pandas\\core\\frame.py:3997: SettingWithCopyWarning: \n",
      "A value is trying to be set on a copy of a slice from a DataFrame\n",
      "\n",
      "See the caveats in the documentation: https://pandas.pydata.org/pandas-docs/stable/user_guide/indexing.html#returning-a-view-versus-a-copy\n",
      "  errors=errors,\n"
     ]
    }
   ],
   "source": [
    "ionosphere_train_y = ionosphere_train[\"label\"].copy()\n",
    "ionosphere_train_y[ionosphere_train_y == \"g\"] = 1\n",
    "ionosphere_train_y[ionosphere_train_y == \"b\"] = 0\n",
    "ionosphere_train_y = np.array(ionosphere_train_y.astype('uint8'))\n",
    "ionosphere_train.drop([1, \"label\"], inplace=True, axis=1)\n",
    "\n",
    "ionosphere_test_y = ionosphere_test[\"label\"].copy()\n",
    "ionosphere_test_y[ionosphere_test_y == \"g\"] = 1\n",
    "ionosphere_test_y[ionosphere_test_y == \"b\"] = 0\n",
    "ionosphere_test_y = np.array(ionosphere_test_y.astype('uint8'))\n",
    "ionosphere_test.drop([1, \"label\"], inplace=True, axis=1)"
   ]
  },
  {
   "cell_type": "markdown",
   "metadata": {},
   "source": [
    "# Hyperparameter Tuning, Feature Selection by Cross-Validation"
   ]
  },
  {
   "cell_type": "markdown",
   "metadata": {},
   "source": [
    "To start, we want to estimate feature importances. This will give us a more structured way of selecting our features; rather than choosing all possible subsets we can evaluate feature subsets from most to least important. To do this, we can use Random Forests; they estimate feature importance from the impurity decrease gained by applying thresholds on a certain feature across all the decision trees.  "
   ]
  },
  {
   "cell_type": "code",
   "execution_count": 556,
   "metadata": {
    "colab": {},
    "colab_type": "code",
    "id": "kR5WyqWvuC5Z"
   },
   "outputs": [
    {
     "data": {
      "text/plain": [
       "Pipeline(steps=[('sc', StandardScaler()),\n",
       "                ('rf', RandomForestClassifier(max_depth=5, random_state=42))])"
      ]
     },
     "execution_count": 556,
     "metadata": {},
     "output_type": "execute_result"
    }
   ],
   "source": [
    "from sklearn.preprocessing import StandardScaler\n",
    "from sklearn.ensemble import RandomForestClassifier\n",
    "\n",
    "feature_importance_est = Pipeline([\n",
    "    (\"sc\", StandardScaler()),\n",
    "    (\"rf\", RandomForestClassifier(max_depth=5, random_state=42))\n",
    "])\n",
    "\n",
    "ionosphere_train_all = pd.concat((ionosphere_train, new_features_df), axis=1)\n",
    "ionosphere_test_all = pd.concat((ionosphere_test, new_features_df_test), axis=1)\n",
    "feature_importance_est.fit(np.array(ionosphere_train_all), ionosphere_train_y)"
   ]
  },
  {
   "cell_type": "code",
   "execution_count": 557,
   "metadata": {},
   "outputs": [
    {
     "data": {
      "text/plain": [
       "[(0.14902385301116777, 4),\n",
       " (0.08523813056410454, 2),\n",
       " (0.08065098260006319, 'std_im'),\n",
       " (0.06058517620979404, 26),\n",
       " (0.05566733492385757, 'Lag_2_Real'),\n",
       " (0.04721114235928848, 6),\n",
       " (0.04436886879520479, 'std_real'),\n",
       " (0.04255553914894694, 'Lag_1_Real'),\n",
       " (0.037721831793190226, 'Lag_1_Im'),\n",
       " (0.02866279449752153, 'Lag_2_Im'),\n",
       " (0.028136279122834566, 0),\n",
       " (0.02703251833516807, 7),\n",
       " (0.023921123131558843, 5),\n",
       " (0.01996724759488392, 14),\n",
       " (0.019443236245757105, 13),\n",
       " (0.018921190207828353, 32),\n",
       " (0.018006447167532053, 12),\n",
       " (0.01766539704429411, 3),\n",
       " (0.015686512182860345, 27),\n",
       " (0.01394806169646682, 21),\n",
       " (0.013455466063347896, 28),\n",
       " (0.01277068839346456, 30),\n",
       " (0.01268331746493763, 23),\n",
       " (0.012446716070139188, 'Lag_3_Real'),\n",
       " (0.010954077421252675, 20),\n",
       " (0.01058416300634634, 17),\n",
       " (0.010530180294819108, 15),\n",
       " (0.009306006463564975, 11),\n",
       " (0.008533208778968536, 'Lag_3_Im'),\n",
       " (0.007016670424380906, 31),\n",
       " (0.006941059737149988, 18),\n",
       " (0.004995252427824286, 25),\n",
       " (0.004978593648609277, 'Lag_5_Im'),\n",
       " (0.004868705444843069, 19),\n",
       " (0.004444959265926664, 'Lag_4_Im'),\n",
       " (0.004406422002816399, 16),\n",
       " (0.004241547762195555, 22),\n",
       " (0.003925385463530909, 'Lag_4_Real'),\n",
       " (0.0036412463374333286, 33),\n",
       " (0.003244746860859533, 9),\n",
       " (0.002800770200844106, 'Lag_5_Real'),\n",
       " (0.0027905127643454114, 24),\n",
       " (0.002737329065608131, 29),\n",
       " (0.0018442804127002527, 8),\n",
       " (0.001445027591767955, 10)]"
      ]
     },
     "execution_count": 557,
     "metadata": {},
     "output_type": "execute_result"
    }
   ],
   "source": [
    "sorted(zip(feature_importance_est.named_steps[\"rf\"].feature_importances_, ionosphere_train_all.columns), reverse=True)"
   ]
  },
  {
   "cell_type": "code",
   "execution_count": 558,
   "metadata": {},
   "outputs": [],
   "source": [
    "feature_importance = [x for _, x in sorted(zip(feature_importance_est.named_steps[\"rf\"].feature_importances_, ionosphere_train_all.columns), reverse=True)]"
   ]
  },
  {
   "cell_type": "markdown",
   "metadata": {},
   "source": [
    "Using this, we have an estimate of the relative important of our new features:\n",
    "\n",
    "To find the optimal number of features to include, we'll start by using the most important feature (\"4\") and slowly include more and more features to find the optimal blend of original/engineered features."
   ]
  },
  {
   "cell_type": "code",
   "execution_count": 581,
   "metadata": {},
   "outputs": [
    {
     "name": "stdout",
     "output_type": "stream",
     "text": [
      "0.8290960451977402\n",
      "0.8191525423728813\n",
      "0.8794350282485877\n",
      "0.8928248587570622\n",
      "0.9295480225988701\n",
      "0.9228813559322034\n",
      "0.9228813559322034\n",
      "0.9396045197740113\n",
      "0.9328248587570622\n",
      "0.9396045197740113\n",
      "0.9396045197740113\n",
      "0.9427683615819209\n",
      "0.9396045197740113\n",
      "0.9396045197740113\n",
      "0.9396045197740113\n",
      "0.9396045197740113\n",
      "0.9363276836158192\n",
      "0.9328813559322034\n",
      "0.936271186440678\n",
      "0.9463841807909604\n",
      "0.9396610169491526\n",
      "0.9429943502824859\n",
      "0.9429943502824859\n",
      "0.9396610169491526\n",
      "0.9396610169491526\n",
      "0.9396610169491526\n",
      "0.9363276836158192\n",
      "0.9397175141242938\n",
      "0.9296045197740114\n",
      "0.9296045197740114\n",
      "0.9296045197740114\n",
      "0.9296610169491526\n",
      "0.9396610169491526\n",
      "0.9396610169491526\n",
      "0.9329943502824859\n",
      "0.9329378531073447\n",
      "0.9363276836158192\n",
      "0.9296610169491526\n",
      "0.9396045197740113\n",
      "0.9396045197740113\n",
      "0.9430508474576271\n",
      "0.9397175141242938\n",
      "0.9397175141242938\n",
      "0.9397175141242938\n"
     ]
    }
   ],
   "source": [
    "from sklearn.linear_model import LogisticRegression\n",
    "from sklearn.model_selection import GridSearchCV\n",
    "from copy import deepcopy\n",
    "                            \n",
    "train_scores = []\n",
    "val_scores = []\n",
    "train_err = []\n",
    "val_err = []\n",
    "models = []\n",
    "\n",
    "log_rg = Pipeline([\n",
    "    (\"sc\", StandardScaler()),\n",
    "    (\"lr\", LogisticRegression(max_iter=10000, penalty=\"elasticnet\", solver=\"saga\"))\n",
    "])\n",
    "\n",
    "grid_search = {\n",
    "    \"lr__C\": [0.001, 0.01, 0.1, 1, 10], \n",
    "    \"lr__l1_ratio\": [0, 0.2, 0.4, 0.6, 0.8, 1.0]\n",
    "}\n",
    "\n",
    "log_rg_cv = GridSearchCV(log_rg, grid_search, cv=5, return_train_score = True)\n",
    "\n",
    "for i in range(1, len(feature_importance)):\n",
    "    features_to_include = feature_importance[:i]\n",
    "    train = np.array(ionosphere_train_all[features_to_include].copy())\n",
    "    log_rg_cv.fit(train, ionosphere_train_y)\n",
    "    \n",
    "    best_ix = np.argmax(log_rg_cv.cv_results_[\"mean_test_score\"])\n",
    "    train_scores.append(log_rg_cv.cv_results_[\"mean_train_score\"][best_ix])\n",
    "    train_err.append(log_rg_cv.cv_results_[\"std_train_score\"][best_ix])\n",
    "    val_scores.append(log_rg_cv.cv_results_[\"mean_test_score\"][best_ix])\n",
    "    val_err.append(log_rg_cv.cv_results_[\"std_test_score\"][best_ix])\n",
    "    print(val_scores[-1])\n",
    "    models.append(deepcopy(log_rg_cv))\n",
    "\n"
   ]
  },
  {
   "cell_type": "markdown",
   "metadata": {},
   "source": [
    "As a reference, let's also evaluate performance by just using the raw time series as features.\n",
    "\n",
    "A huge difference was found by adding in the engineered features, increasing validation accuracy from 87.3% up to 94.6% in the best case. This optimal model model was found by including a blend of original time series points as well as the \"std_im\", \"std_real\", \"Lag_1_Real\", \"Lag_2_Real\", \"Lag_1_Im\", and \"Lag_2_Im\"."
   ]
  },
  {
   "cell_type": "code",
   "execution_count": 583,
   "metadata": {},
   "outputs": [
    {
     "data": {
      "text/plain": [
       "0.872768361581921"
      ]
     },
     "execution_count": 583,
     "metadata": {},
     "output_type": "execute_result"
    }
   ],
   "source": [
    "log_rg_cv.fit(np.array(ionosphere_train), ionosphere_train_y)\n",
    "log_rg_cv.best_score_"
   ]
  },
  {
   "cell_type": "code",
   "execution_count": 584,
   "metadata": {},
   "outputs": [
    {
     "data": {
      "text/plain": [
       "0.9463841807909604"
      ]
     },
     "execution_count": 584,
     "metadata": {},
     "output_type": "execute_result"
    }
   ],
   "source": [
    "best_ix = np.argmax(val_scores)\n",
    "val_scores[best_ix]"
   ]
  },
  {
   "cell_type": "code",
   "execution_count": 585,
   "metadata": {},
   "outputs": [
    {
     "data": {
      "text/plain": [
       "0.9656024752997434"
      ]
     },
     "execution_count": 585,
     "metadata": {},
     "output_type": "execute_result"
    }
   ],
   "source": [
    "train_scores[best_ix]"
   ]
  },
  {
   "cell_type": "code",
   "execution_count": 586,
   "metadata": {},
   "outputs": [
    {
     "data": {
      "text/plain": [
       "{'lr__C': 1, 'lr__l1_ratio': 0.4}"
      ]
     },
     "execution_count": 586,
     "metadata": {},
     "output_type": "execute_result"
    }
   ],
   "source": [
    "log_rg_cv_opt = models[best_ix]\n",
    "log_rg_cv_opt.best_params_"
   ]
  },
  {
   "cell_type": "code",
   "execution_count": 588,
   "metadata": {},
   "outputs": [
    {
     "data": {
      "image/png": "[encoded data removed]",
      "text/plain": [
       "<Figure size 1152x720 with 1 Axes>"
      ]
     },
     "metadata": {
      "needs_background": "light"
     },
     "output_type": "display_data"
    }
   ],
   "source": [
    "x=np.arange(1, len(feature_importance))\n",
    "y=np.linspace(0, 1, 21)\n",
    "width=0.35\n",
    "\n",
    "fig, ax = plt.subplots()\n",
    "train_bars = ax.bar(x - width/2, train_scores, width, linewidth=0.2, label='Train Accuracy', yerr=train_err)\n",
    "val_bars = ax.bar(x + width/2, val_scores, width, linewidth=0.2, label='Validation Accuracy', yerr=val_err)\n",
    "\n",
    "ax.set_ylabel('% Accuracy')\n",
    "ax.set_xlabel(\"# Additional Features\")\n",
    "ax.set_title('Ionosphere Accuracy with New Features')\n",
    "ax.set_xticks(x)\n",
    "ax.set_yticks(y)\n",
    "ax.legend()\n",
    "\n",
    "fig.set_size_inches(16, 10)\n"
   ]
  },
  {
   "cell_type": "markdown",
   "metadata": {},
   "source": [
    "Finally, we evaluate the mode on our test set.\n",
    "\n",
    "***We achieve a test accuracy of 94.3%***"
   ]
  },
  {
   "cell_type": "code",
   "execution_count": 587,
   "metadata": {},
   "outputs": [
    {
     "data": {
      "text/plain": [
       "[4,\n",
       " 2,\n",
       " 'std_im',\n",
       " 26,\n",
       " 'Lag_2_Real',\n",
       " 6,\n",
       " 'std_real',\n",
       " 'Lag_1_Real',\n",
       " 'Lag_1_Im',\n",
       " 'Lag_2_Im',\n",
       " 0,\n",
       " 7,\n",
       " 5,\n",
       " 14,\n",
       " 13,\n",
       " 32,\n",
       " 12,\n",
       " 3,\n",
       " 27,\n",
       " 21]"
      ]
     },
     "execution_count": 587,
     "metadata": {},
     "output_type": "execute_result"
    }
   ],
   "source": [
    "opt_features = feature_importance[:best_ix+1]\n",
    "opt_features"
   ]
  },
  {
   "cell_type": "code",
   "execution_count": 589,
   "metadata": {},
   "outputs": [
    {
     "data": {
      "text/plain": [
       "0.9433962264150944"
      ]
     },
     "execution_count": 589,
     "metadata": {},
     "output_type": "execute_result"
    }
   ],
   "source": [
    "ionosphere_test_opt = np.array(ionosphere_test_all[opt_features])\n",
    "log_rg_cv_opt.score(ionosphere_test_opt, ionosphere_test_y)"
   ]
  },
  {
   "cell_type": "code",
   "execution_count": null,
   "metadata": {},
   "outputs": [],
   "source": []
  },
  {
   "cell_type": "code",
   "execution_count": null,
   "metadata": {},
   "outputs": [],
   "source": []
  },
  {
   "cell_type": "code",
   "execution_count": null,
   "metadata": {},
   "outputs": [],
   "source": []
  },
  {
   "cell_type": "code",
   "execution_count": null,
   "metadata": {},
   "outputs": [],
   "source": []
  },
  {
   "cell_type": "code",
   "execution_count": null,
   "metadata": {},
   "outputs": [],
   "source": []
  },
  {
   "cell_type": "code",
   "execution_count": null,
   "metadata": {},
   "outputs": [],
   "source": []
  },
  {
   "cell_type": "code",
   "execution_count": null,
   "metadata": {},
   "outputs": [],
   "source": []
  },
  {
   "cell_type": "code",
   "execution_count": null,
   "metadata": {},
   "outputs": [],
   "source": []
  },
  {
   "cell_type": "code",
   "execution_count": null,
   "metadata": {},
   "outputs": [],
   "source": []
  },
  {
   "cell_type": "code",
   "execution_count": null,
   "metadata": {},
   "outputs": [],
   "source": []
  },
  {
   "cell_type": "code",
   "execution_count": null,
   "metadata": {},
   "outputs": [],
   "source": []
  },
  {
   "cell_type": "code",
   "execution_count": null,
   "metadata": {},
   "outputs": [],
   "source": []
  },
  {
   "cell_type": "code",
   "execution_count": null,
   "metadata": {},
   "outputs": [],
   "source": []
  },
  {
   "cell_type": "code",
   "execution_count": null,
   "metadata": {},
   "outputs": [],
   "source": []
  }
 ],
 "metadata": {
  "kernelspec": {
   "display_name": "Python 3",
   "language": "python",
   "name": "python3"
  },
  "language_info": {
   "codemirror_mode": {
    "name": "ipython",
    "version": 3
   },
   "file_extension": ".py",
   "mimetype": "text/x-python",
   "name": "python",
   "nbconvert_exporter": "python",
   "pygments_lexer": "ipython3",
   "version": "3.7.7"
  }
 },
 "nbformat": 4,
 "nbformat_minor": 4
}
